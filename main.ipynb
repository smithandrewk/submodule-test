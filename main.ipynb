{
 "cells": [
  {
   "cell_type": "code",
   "execution_count": 8,
   "metadata": {},
   "outputs": [],
   "source": [
    "from delta.delta import nursing"
   ]
  },
  {
   "cell_type": "code",
   "execution_count": 9,
   "metadata": {},
   "outputs": [
    {
     "name": "stdout",
     "output_type": "stream",
     "text": [
      "Already downloaded\n"
     ]
    },
    {
     "data": {
      "text/plain": [
       "(tensor([[ 0.6582, -0.9741,  9.8828],\n",
       "         [ 0.6367, -0.8472,  9.8438],\n",
       "         [ 0.6177, -0.8184,  9.8359],\n",
       "         ...,\n",
       "         [ 2.3691,  3.5020,  9.1094],\n",
       "         [ 2.2441,  3.4277,  9.1953],\n",
       "         [ 2.3594,  3.4160,  8.9766]]),\n",
       " tensor([0, 0, 0,  ..., 0, 0, 0]))"
      ]
     },
     "execution_count": 9,
     "metadata": {},
     "output_type": "execute_result"
    }
   ],
   "source": [
    "nursing.load_concatenated_data()"
   ]
  }
 ],
 "metadata": {
  "kernelspec": {
   "display_name": "Python 3",
   "language": "python",
   "name": "python3"
  },
  "language_info": {
   "codemirror_mode": {
    "name": "ipython",
    "version": 3
   },
   "file_extension": ".py",
   "mimetype": "text/x-python",
   "name": "python",
   "nbconvert_exporter": "python",
   "pygments_lexer": "ipython3",
   "version": "3.11.4"
  }
 },
 "nbformat": 4,
 "nbformat_minor": 2
}
